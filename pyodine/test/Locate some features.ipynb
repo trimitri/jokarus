{
 "cells": [
  {
   "cell_type": "code",
   "execution_count": null,
   "metadata": {
    "collapsed": true
   },
   "outputs": [],
   "source": [
    "%matplotlib notebook"
   ]
  },
  {
   "cell_type": "code",
   "execution_count": null,
   "metadata": {
    "collapsed": false
   },
   "outputs": [],
   "source": [
    "import matplotlib.pyplot as plt\n",
    "from scipy import signal\n",
    "import numpy as np\n",
    "\n",
    "# Make sure the pyodine package can be found.\n",
    "import os\n",
    "import sys\n",
    "module_path = os.path.abspath(os.path.join('../..'))\n",
    "if module_path not in sys.path:\n",
    "    sys.path.append(module_path)\n",
    "\n",
    "# Reimport the package on every evaluation of this cell\n",
    "import importlib\n",
    "import pyodine.controller.feature_locator\n",
    "pyodine.controller.feature_locator = importlib.reload(pyodine.controller.feature_locator)"
   ]
  },
  {
   "cell_type": "code",
   "execution_count": null,
   "metadata": {
    "collapsed": false
   },
   "outputs": [],
   "source": [
    "loc = pyodine.controller.feature_locator.FeatureLocator()\n",
    "loc.load_reference_from_binary('../data/Analytic Spectrum (KD)_100kHz.bin')"
   ]
  },
  {
   "cell_type": "code",
   "execution_count": null,
   "metadata": {
    "collapsed": false
   },
   "outputs": [],
   "source": [
    "for r in np.nditer(loc.reference, op_flags=['readwrite']):\n",
    "    if abs(r) < 0.01:\n",
    "        r[...] = 0\n",
    "loc.sample = loc.reference[3950:4150]\n",
    "\n",
    "# Add noise.\n",
    "#loc.reference = np.add(loc.reference, np.random.normal(0, .1, len(loc.reference)))\n",
    "#loc.sample = np.add(loc.sample, np.random.normal(0, .1, len(loc.sample)))\n",
    "\n",
    "plt.plot(loc.reference)\n",
    "plt.show()"
   ]
  },
  {
   "cell_type": "code",
   "execution_count": null,
   "metadata": {
    "collapsed": false
   },
   "outputs": [],
   "source": [
    "%%timeit -r 1 -n 1 -c\n",
    "corr = loc.correlate()"
   ]
  },
  {
   "cell_type": "code",
   "execution_count": null,
   "metadata": {
    "collapsed": false
   },
   "outputs": [],
   "source": [
    "plt.figure()\n",
    "plt.plot(loc.sample)\n",
    "plt.figure()\n",
    "plt.plot(loc.correlate())\n",
    "plt.show()\n",
    "loc.locate_sample()"
   ]
  },
  {
   "cell_type": "code",
   "execution_count": null,
   "metadata": {
    "collapsed": false
   },
   "outputs": [],
   "source": [
    "plt.figure()\n",
    "plt.plot(loc._get_normalization())\n",
    "plt.show()"
   ]
  }
 ],
 "metadata": {
  "kernelspec": {
   "display_name": "Python 3",
   "language": "python",
   "name": "python3"
  },
  "language_info": {
   "codemirror_mode": {
    "name": "ipython",
    "version": 3
   },
   "file_extension": ".py",
   "mimetype": "text/x-python",
   "name": "python",
   "nbconvert_exporter": "python",
   "pygments_lexer": "ipython3",
   "version": "3.6.0"
  }
 },
 "nbformat": 4,
 "nbformat_minor": 2
}
